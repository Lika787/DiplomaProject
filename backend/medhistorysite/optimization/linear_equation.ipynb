{
 "cells": [
  {
   "cell_type": "code",
   "execution_count": 1,
   "id": "d50e1164-f6c1-4919-b294-9fa4828bda15",
   "metadata": {},
   "outputs": [],
   "source": [
    "import pandas as pd\n",
    "from model import OptimizationModel"
   ]
  },
  {
   "cell_type": "code",
   "execution_count": 2,
   "id": "ce169994-d2cb-4c35-a540-cdc787647fbe",
   "metadata": {},
   "outputs": [],
   "source": [
    "general_model = OptimizationModel()\n",
    "features = general_model.features"
   ]
  },
  {
   "cell_type": "code",
   "execution_count": 5,
   "id": "65d5bdb0-5cc5-4002-aa25-2e8e3ccbf0b6",
   "metadata": {},
   "outputs": [
    {
     "data": {
      "text/html": [
       "<div>\n",
       "<style scoped>\n",
       "    .dataframe tbody tr th:only-of-type {\n",
       "        vertical-align: middle;\n",
       "    }\n",
       "\n",
       "    .dataframe tbody tr th {\n",
       "        vertical-align: top;\n",
       "    }\n",
       "\n",
       "    .dataframe thead th {\n",
       "        text-align: right;\n",
       "    }\n",
       "</style>\n",
       "<table border=\"1\" class=\"dataframe\">\n",
       "  <thead>\n",
       "    <tr style=\"text-align: right;\">\n",
       "      <th></th>\n",
       "      <th>intercept</th>\n",
       "      <th>X1</th>\n",
       "      <th>X2</th>\n",
       "      <th>X3</th>\n",
       "      <th>X4</th>\n",
       "      <th>X5</th>\n",
       "      <th>X6</th>\n",
       "      <th>U1</th>\n",
       "      <th>U2</th>\n",
       "    </tr>\n",
       "  </thead>\n",
       "  <tbody>\n",
       "    <tr>\n",
       "      <th>X7</th>\n",
       "      <td>90.528072</td>\n",
       "      <td>0.034882</td>\n",
       "      <td>-0.0813</td>\n",
       "      <td>0.125278</td>\n",
       "      <td>-0.072582</td>\n",
       "      <td>-3.382308</td>\n",
       "      <td>-0.196198</td>\n",
       "      <td>0.006278</td>\n",
       "      <td>-0.860701</td>\n",
       "    </tr>\n",
       "    <tr>\n",
       "      <th>X8</th>\n",
       "      <td>-1.902973</td>\n",
       "      <td>-0.025743</td>\n",
       "      <td>0.037609</td>\n",
       "      <td>-0.0188</td>\n",
       "      <td>0.006976</td>\n",
       "      <td>0.598414</td>\n",
       "      <td>0.026252</td>\n",
       "      <td>0.000041</td>\n",
       "      <td>0.384032</td>\n",
       "    </tr>\n",
       "    <tr>\n",
       "      <th>X9</th>\n",
       "      <td>0.805756</td>\n",
       "      <td>0.001561</td>\n",
       "      <td>-0.001478</td>\n",
       "      <td>-0.000898</td>\n",
       "      <td>0.000019</td>\n",
       "      <td>0.024646</td>\n",
       "      <td>-0.004318</td>\n",
       "      <td>-0.000795</td>\n",
       "      <td>0.006769</td>\n",
       "    </tr>\n",
       "    <tr>\n",
       "      <th>X10</th>\n",
       "      <td>46.083066</td>\n",
       "      <td>0.01711</td>\n",
       "      <td>-0.003922</td>\n",
       "      <td>-0.04401</td>\n",
       "      <td>0.015147</td>\n",
       "      <td>1.554643</td>\n",
       "      <td>0.18364</td>\n",
       "      <td>-0.015675</td>\n",
       "      <td>0.412557</td>\n",
       "    </tr>\n",
       "  </tbody>\n",
       "</table>\n",
       "</div>"
      ],
      "text/plain": [
       "     intercept        X1        X2        X3        X4        X5        X6  \\\n",
       "X7   90.528072  0.034882   -0.0813  0.125278 -0.072582 -3.382308 -0.196198   \n",
       "X8   -1.902973 -0.025743  0.037609   -0.0188  0.006976  0.598414  0.026252   \n",
       "X9    0.805756  0.001561 -0.001478 -0.000898  0.000019  0.024646 -0.004318   \n",
       "X10  46.083066   0.01711 -0.003922  -0.04401  0.015147  1.554643   0.18364   \n",
       "\n",
       "           U1        U2  \n",
       "X7   0.006278 -0.860701  \n",
       "X8   0.000041  0.384032  \n",
       "X9  -0.000795  0.006769  \n",
       "X10 -0.015675  0.412557  "
      ]
     },
     "execution_count": 5,
     "metadata": {},
     "output_type": "execute_result"
    }
   ],
   "source": [
    "df = pd.DataFrame(index=general_model.models.keys(), columns=[\"intercept\"] + features)\n",
    "\n",
    "for label, model in general_model.models.items():\n",
    "    df.loc[label][\"intercept\"] = model.intercept_\n",
    "    for c, f in zip(model.coef_, features):\n",
    "        df.loc[label][f] = c\n",
    "\n",
    "df"
   ]
  },
  {
   "cell_type": "code",
   "execution_count": 7,
   "id": "09cd4865-4c0f-4c40-ad68-e3b0789e00f6",
   "metadata": {},
   "outputs": [
    {
     "name": "stdout",
     "output_type": "stream",
     "text": [
      "X7 = 90.52807164614393 + 0.03488169204262011 * X1 - 0.08130025856115244 * X2 + 0.12527818458477155 * X3 - 0.07258182859340048 * X4 - 3.3823082253725283 * X5 - 0.19619796294559122 * X6 + 0.006277789472816042 * U1 - 0.8607009184298773 * U2\n",
      "\n",
      "X8 = -1.9029730035724963 - 0.025743336062922284 * X1 + 0.037608711019453775 * X2 - 0.018800096878744756 * X3 + 0.006975501461255905 * X4 + 0.5984138747738635 * X5 + 0.026252338818831933 * X6 + 4.0779539046874314e-05 * U1 + 0.3840315989974964 * U2\n",
      "\n",
      "X9 = 0.8057556764455932 + 0.0015614368392376904 * X1 - 0.0014776151399799808 * X2 - 0.0008982277046660095 * X3 + 1.9338129933292136e-05 * X4 + 0.024645774770569732 * X5 - 0.004317816542012559 * X6 - 0.0007950678754748361 * U1 + 0.006768647293415101 * U2\n",
      "\n",
      "X10 = 46.08306635632961 + 0.017110009090351482 * X1 - 0.003922389850898278 * X2 - 0.04401047899762372 * X3 + 0.015147377009270083 * X4 + 1.554642732894664 * X5 + 0.18363960421615735 * X6 - 0.0156754827488899 * U1 + 0.41255747764490447 * U2\n",
      "\n"
     ]
    }
   ],
   "source": [
    "for label, model in general_model.models.items():\n",
    "    coefs = [f\"+ {c}\" if c >= 0 else f\"- {abs(c)}\" for c in model.coef_]\n",
    "    sum_ = \" \".join([f\"{c} * {f}\" for c, f in zip(coefs, features)])\n",
    "    print(f\"{label} = {model.intercept_} {sum_}\", end=\"\\n\\n\")"
   ]
  },
  {
   "cell_type": "code",
   "execution_count": null,
   "id": "eb518f6f-95cf-4db9-9e92-accc2dfc8250",
   "metadata": {},
   "outputs": [],
   "source": []
  }
 ],
 "metadata": {
  "kernelspec": {
   "display_name": "Python 3",
   "language": "python",
   "name": "python3"
  },
  "language_info": {
   "codemirror_mode": {
    "name": "ipython",
    "version": 3
   },
   "file_extension": ".py",
   "mimetype": "text/x-python",
   "name": "python",
   "nbconvert_exporter": "python",
   "pygments_lexer": "ipython3",
   "version": "3.7.10"
  }
 },
 "nbformat": 4,
 "nbformat_minor": 5
}
