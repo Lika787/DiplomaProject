{
 "cells": [
  {
   "cell_type": "code",
   "execution_count": 1,
   "id": "documentary-permission",
   "metadata": {},
   "outputs": [],
   "source": [
    "import itertools\n",
    "import os\n",
    "from concurrent.futures import ThreadPoolExecutor\n",
    "\n",
    "import numpy as np\n",
    "import pandas as pd\n",
    "from sklearn.ensemble import RandomForestRegressor as Regression\n",
    "from tqdm import tqdm"
   ]
  },
  {
   "cell_type": "code",
   "execution_count": 2,
   "id": "collect-receiver",
   "metadata": {},
   "outputs": [],
   "source": [
    "df = pd.read_excel('database.xlsx')\n",
    "df.columns = [column.split()[0] for column in df.columns]\n",
    "df = df[df['X9'] < df['X9'].quantile(0.95)]"
   ]
  },
  {
   "cell_type": "code",
   "execution_count": 3,
   "id": "light-isaac",
   "metadata": {},
   "outputs": [],
   "source": [
    "input_features = ['X1', 'X2', 'X3',\n",
    "                  'X4', 'X5', 'X6']\n",
    "healing_features = ['U1', 'U2']\n",
    "features = input_features + healing_features\n",
    "\n",
    "output_labels = ['X7', 'X8', 'X9']\n",
    "optimization_label = 'X10'\n",
    "labels = output_labels + [optimization_label]"
   ]
  },
  {
   "cell_type": "code",
   "execution_count": 4,
   "id": "original-motorcycle",
   "metadata": {},
   "outputs": [
    {
     "name": "stderr",
     "output_type": "stream",
     "text": [
      "100%|██████████| 4/4 [00:00<00:00,  8.70it/s]\n"
     ]
    }
   ],
   "source": [
    "models = dict()\n",
    "for label in tqdm(labels):\n",
    "    X, y = df[features], df[label].values\n",
    "    model = Regression()\n",
    "    model.fit(X, y)\n",
    "    models[label] = model"
   ]
  },
  {
   "cell_type": "code",
   "execution_count": 5,
   "id": "printable-assignment",
   "metadata": {},
   "outputs": [],
   "source": [
    "constraints = {\n",
    "    'U1': (0, 20),\n",
    "    'U2': (14, 32),\n",
    "    \n",
    "    'X7': (42, 80),\n",
    "    'X8': (3, 14),\n",
    "    'X9': (0.4, 1.4),\n",
    "    'X10': (56, 78)\n",
    "}"
   ]
  },
  {
   "cell_type": "code",
   "execution_count": 44,
   "id": "incorporated-clause",
   "metadata": {},
   "outputs": [],
   "source": [
    "def optimization_score(value):\n",
    "    min_val, max_val = constraints[optimization_label]\n",
    "    return np.abs(value - np.mean([min_val, max_val]))\n",
    "\n",
    "\n",
    "def healing_field():\n",
    "    prod = itertools.product(*[np.arange(*constraints[feature], 3)\n",
    "                               for feature in healing_features])\n",
    "    return list(map(tuple, prod))\n",
    "\n",
    "\n",
    "def contraints_score(row_df):\n",
    "    for label, (min_val, max_val) in constraints.items():\n",
    "        if not (min_val <= row_df[label].values[0] <= max_val):\n",
    "            return False\n",
    "    return True\n",
    "\n",
    "\n",
    "def optimize_row(row, k_best):\n",
    "    print(row)\n",
    "    results = dict()\n",
    "    \n",
    "    for field in tqdm(healing_field()):\n",
    "        row_dict = dict(row)\n",
    "        row_dict.update(dict(zip(healing_features, field)))\n",
    "        row_df = pd.DataFrame(pd.Series(row_dict)).transpose()\n",
    "        row_df = predict(row_df)\n",
    "        if contraints_score(row_df):\n",
    "            score = optimization_score(row_df[optimization_label].values[0])\n",
    "            results[score] = row_df\n",
    "    \n",
    "    scores = sorted(results.keys())[:k_best]\n",
    "    return [{'score': s, 'healing_plan': results[s].to_dict(orient='records')[0]}\n",
    "            for s in scores]\n",
    "    \n",
    "    \n",
    "def optimize(input_df, k_best=5):\n",
    "    input_df = input_df.copy()\n",
    "    return input_df.apply(lambda x: optimize_row(x, k_best), axis=1).values\n",
    "    \n",
    "\n",
    "def predict(input_df):\n",
    "    input_df = input_df.copy()\n",
    "    if missed_columns := set(features) - set(input_df.columns):\n",
    "        raise ValueError(f'Missed input columns: {\", \".join(missed_columns)}')\n",
    "\n",
    "    for label in labels:\n",
    "        model = models[label]\n",
    "        X = input_df[features]\n",
    "        input_df[label] = model.predict(X)\n",
    "    \n",
    "    return input_df"
   ]
  },
  {
   "cell_type": "code",
   "execution_count": 45,
   "id": "biological-intellectual",
   "metadata": {},
   "outputs": [
    {
     "name": "stderr",
     "output_type": "stream",
     "text": [
      "  7%|▋         | 3/42 [00:00<00:01, 22.35it/s]"
     ]
    },
    {
     "name": "stdout",
     "output_type": "stream",
     "text": [
      "X1    189.0\n",
      "X2     84.0\n",
      "X3     64.0\n",
      "X4    100.0\n",
      "X5      0.0\n",
      "X6     72.0\n",
      "Name: 0, dtype: float64\n"
     ]
    },
    {
     "name": "stderr",
     "output_type": "stream",
     "text": [
      "100%|██████████| 42/42 [00:01<00:00, 22.92it/s]\n",
      "  7%|▋         | 3/42 [00:00<00:01, 24.50it/s]"
     ]
    },
    {
     "name": "stdout",
     "output_type": "stream",
     "text": [
      "X1     4.9\n",
      "X2    10.0\n",
      "X3    82.0\n",
      "X4    73.0\n",
      "X5     1.5\n",
      "X6    80.0\n",
      "Name: 1, dtype: float64\n"
     ]
    },
    {
     "name": "stderr",
     "output_type": "stream",
     "text": [
      "100%|██████████| 42/42 [00:01<00:00, 22.95it/s]\n",
      "  7%|▋         | 3/42 [00:00<00:01, 23.17it/s]"
     ]
    },
    {
     "name": "stdout",
     "output_type": "stream",
     "text": [
      "X1    168.0\n",
      "X2     43.0\n",
      "X3     73.0\n",
      "X4     60.0\n",
      "X5      2.0\n",
      "X6     74.0\n",
      "Name: 2, dtype: float64\n"
     ]
    },
    {
     "name": "stderr",
     "output_type": "stream",
     "text": [
      "100%|██████████| 42/42 [00:01<00:00, 23.48it/s]"
     ]
    },
    {
     "name": "stdout",
     "output_type": "stream",
     "text": [
      "CPU times: user 5.36 s, sys: 142 ms, total: 5.5 s\n",
      "Wall time: 5.47 s\n"
     ]
    },
    {
     "name": "stderr",
     "output_type": "stream",
     "text": [
      "\n"
     ]
    }
   ],
   "source": [
    "%%time\n",
    "res = optimize(df.iloc[:3][['X1', 'X2', 'X3', 'X4', 'X5', 'X6']])"
   ]
  },
  {
   "cell_type": "code",
   "execution_count": 46,
   "id": "aggregate-laser",
   "metadata": {},
   "outputs": [
    {
     "data": {
      "text/html": [
       "<div>\n",
       "<style scoped>\n",
       "    .dataframe tbody tr th:only-of-type {\n",
       "        vertical-align: middle;\n",
       "    }\n",
       "\n",
       "    .dataframe tbody tr th {\n",
       "        vertical-align: top;\n",
       "    }\n",
       "\n",
       "    .dataframe thead th {\n",
       "        text-align: right;\n",
       "    }\n",
       "</style>\n",
       "<table border=\"1\" class=\"dataframe\">\n",
       "  <thead>\n",
       "    <tr style=\"text-align: right;\">\n",
       "      <th></th>\n",
       "      <th>X1</th>\n",
       "      <th>X2</th>\n",
       "      <th>X3</th>\n",
       "      <th>X4</th>\n",
       "      <th>X5</th>\n",
       "      <th>X6</th>\n",
       "      <th>U1</th>\n",
       "      <th>U2</th>\n",
       "      <th>X7</th>\n",
       "      <th>X8</th>\n",
       "      <th>X9</th>\n",
       "      <th>X10</th>\n",
       "    </tr>\n",
       "  </thead>\n",
       "  <tbody>\n",
       "    <tr>\n",
       "      <th>0</th>\n",
       "      <td>168.0</td>\n",
       "      <td>43.0</td>\n",
       "      <td>73.0</td>\n",
       "      <td>60.0</td>\n",
       "      <td>2.0</td>\n",
       "      <td>74.0</td>\n",
       "      <td>18.0</td>\n",
       "      <td>29.0</td>\n",
       "      <td>59.5</td>\n",
       "      <td>7.81</td>\n",
       "      <td>0.505</td>\n",
       "      <td>64.0</td>\n",
       "    </tr>\n",
       "  </tbody>\n",
       "</table>\n",
       "</div>"
      ],
      "text/plain": [
       "      X1    X2    X3    X4   X5    X6    U1    U2    X7    X8     X9   X10\n",
       "0  168.0  43.0  73.0  60.0  2.0  74.0  18.0  29.0  59.5  7.81  0.505  64.0"
      ]
     },
     "execution_count": 46,
     "metadata": {},
     "output_type": "execute_result"
    }
   ],
   "source": [
    "pd.DataFrame(pd.Series(res[2][2]['healing_plan'])).transpose()"
   ]
  },
  {
   "cell_type": "code",
   "execution_count": 50,
   "id": "eleven-block",
   "metadata": {},
   "outputs": [
    {
     "data": {
      "text/plain": [
       "[{'score': 1.75,\n",
       "  'healing_plan': {'X1': 189.0,\n",
       "   'X2': 84.0,\n",
       "   'X3': 64.0,\n",
       "   'X4': 100.0,\n",
       "   'X5': 0.0,\n",
       "   'X6': 72.0,\n",
       "   'U1': 18.0,\n",
       "   'U2': 20.0,\n",
       "   'X7': 56.48,\n",
       "   'X8': 5.61,\n",
       "   'X9': 0.475,\n",
       "   'X10': 65.25}},\n",
       " {'score': 1.8499999999999943,\n",
       "  'healing_plan': {'X1': 189.0,\n",
       "   'X2': 84.0,\n",
       "   'X3': 64.0,\n",
       "   'X4': 100.0,\n",
       "   'X5': 0.0,\n",
       "   'X6': 72.0,\n",
       "   'U1': 18.0,\n",
       "   'U2': 23.0,\n",
       "   'X7': 56.07,\n",
       "   'X8': 5.61,\n",
       "   'X9': 0.465,\n",
       "   'X10': 65.15}},\n",
       " {'score': 2.319999999999993,\n",
       "  'healing_plan': {'X1': 189.0,\n",
       "   'X2': 84.0,\n",
       "   'X3': 64.0,\n",
       "   'X4': 100.0,\n",
       "   'X5': 0.0,\n",
       "   'X6': 72.0,\n",
       "   'U1': 18.0,\n",
       "   'U2': 29.0,\n",
       "   'X7': 56.05,\n",
       "   'X8': 7.7,\n",
       "   'X9': 0.505,\n",
       "   'X10': 64.68}},\n",
       " {'score': 2.8400000000000034,\n",
       "  'healing_plan': {'X1': 189.0,\n",
       "   'X2': 84.0,\n",
       "   'X3': 64.0,\n",
       "   'X4': 100.0,\n",
       "   'X5': 0.0,\n",
       "   'X6': 72.0,\n",
       "   'U1': 18.0,\n",
       "   'U2': 26.0,\n",
       "   'X7': 56.06,\n",
       "   'X8': 7.78,\n",
       "   'X9': 0.475,\n",
       "   'X10': 64.16}},\n",
       " {'score': 2.930000000000007,\n",
       "  'healing_plan': {'X1': 189.0,\n",
       "   'X2': 84.0,\n",
       "   'X3': 64.0,\n",
       "   'X4': 100.0,\n",
       "   'X5': 0.0,\n",
       "   'X6': 72.0,\n",
       "   'U1': 18.0,\n",
       "   'U2': 17.0,\n",
       "   'X7': 61.01,\n",
       "   'X8': 5.43,\n",
       "   'X9': 0.475,\n",
       "   'X10': 64.07}}]"
      ]
     },
     "execution_count": 50,
     "metadata": {},
     "output_type": "execute_result"
    }
   ],
   "source": [
    "res[0]"
   ]
  },
  {
   "cell_type": "code",
   "execution_count": null,
   "id": "prospective-order",
   "metadata": {},
   "outputs": [],
   "source": []
  }
 ],
 "metadata": {
  "kernelspec": {
   "display_name": "Python 3",
   "language": "python",
   "name": "python3"
  },
  "language_info": {
   "codemirror_mode": {
    "name": "ipython",
    "version": 3
   },
   "file_extension": ".py",
   "mimetype": "text/x-python",
   "name": "python",
   "nbconvert_exporter": "python",
   "pygments_lexer": "ipython3",
   "version": "3.8.7"
  }
 },
 "nbformat": 4,
 "nbformat_minor": 5
}
